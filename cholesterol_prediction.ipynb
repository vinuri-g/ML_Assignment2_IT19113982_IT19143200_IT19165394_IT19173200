{
  "nbformat": 4,
  "nbformat_minor": 0,
  "metadata": {
    "colab": {
      "name": "cholesterol_prediction.ipynb",
      "provenance": [],
      "authorship_tag": "ABX9TyMsFNr6NQUB4NASdbDHSo1r",
      "include_colab_link": true
    },
    "kernelspec": {
      "name": "python3",
      "display_name": "Python 3"
    },
    "language_info": {
      "name": "python"
    }
  },
  "cells": [
    {
      "cell_type": "markdown",
      "metadata": {
        "id": "view-in-github",
        "colab_type": "text"
      },
      "source": [
        "<a href=\"https://colab.research.google.com/github/vinuri-g/ML_Assignment2_IT19113982_IT19143200_IT19165394_IT19173200/blob/sanda-d/cholesterol_prediction.ipynb\" target=\"_parent\"><img src=\"https://colab.research.google.com/assets/colab-badge.svg\" alt=\"Open In Colab\"/></a>"
      ]
    },
    {
      "cell_type": "markdown",
      "source": [
        "# **Predicting Cholesterol Risk Level Using Machine Learning**"
      ],
      "metadata": {
        "id": "8gz0e7hgfly3"
      }
    },
    {
      "cell_type": "markdown",
      "source": [
        "Cholesterol is a type of fat which moves through our body through blood. Cholesterol is made from our body as well as contained in the food we take in. Cholesterol is important to make layers inside blood vessels which act as a gatekeeper for things to move in and out of body cells. But there is a certain level of cholesterol that is needed for this. That is why it is important for one’s health to maintain the level of cholesterol needed without letting it go below or above the required range. Using attributes such as age, gender, height, weight, smoking habits and calorie level, we can, predict the cholesterol risk of a person. "
      ],
      "metadata": {
        "id": "DXQ02O5vfqAm"
      }
    },
    {
      "cell_type": "code",
      "source": [
        "# Import libraries, features and settings\n",
        "\n",
        "import pandas as pd\n",
        "import numpy as np\n",
        "from sklearn import linear_model\n",
        "from sklearn import metrics\n",
        "from sklearn.model_selection import train_test_split\n",
        "from operator import truediv\n",
        "from sklearn.preprocessing import MinMaxScaler\n",
        "from sklearn.linear_model import LinearRegression\n",
        "import matplotlib.pyplot as plt\n",
        "import seaborn as sn\n",
        "from sklearn.linear_model import LogisticRegression\n",
        "from sklearn.preprocessing import LabelEncoder\n",
        "from sklearn.metrics import accuracy_score\n",
        "from sklearn import svm\n",
        "from sklearn.metrics import classification_report, confusion_matrix"
      ],
      "metadata": {
        "id": "Ix795fpxftON"
      },
      "execution_count": null,
      "outputs": []
    },
    {
      "cell_type": "markdown",
      "source": [
        "Data Source : https://www.kaggle.com/code/sulianova/eda-cardiovascular-data/data"
      ],
      "metadata": {
        "id": "fp8cQmFvfvy-"
      }
    },
    {
      "cell_type": "code",
      "source": [
        "# Read dataset and Creating a dataframe\n",
        "\n",
        "df = pd.read_csv(\"cardio_train.csv\", sep=\";\")"
      ],
      "metadata": {
        "id": "KFsaLulHfwt9"
      },
      "execution_count": null,
      "outputs": []
    }
  ]
}